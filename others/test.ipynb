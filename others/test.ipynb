{
 "cells": [
  {
   "cell_type": "markdown",
   "metadata": {},
   "source": [
    "# Prova\n",
    "\n",
    "## 2 – Crie um método  ou função em Phyton que:\n",
    "•\tTenha como entrada o nome de uma biblioteca ou arquivo contendo uma lista de bibliotecas a serem instaladas (tipo requirements.txt) (outros parâmetros adicionais são aceitáveis)\n",
    "•\tEssa função DEVE verificar se a biblioteca se encontra instalada, notificando o usuário da versão que está instalada;\n",
    "•\tEm caso de não estar instalada, deverá instalar a última versão disponível.\n",
    "\n",
    "A cada desvio das condições mencionadas acima, a nota máxima da questão será dividida por 2. Deverá ser providenciado um arquivo Jupyter notebook e arquivos adicionais para sua execução. Poderá ser aceito o que foi enviado no trabalho final.\"\n",
    "\n",
    "### Resposta\n",
    "\n",
    "Módulo: https://github.com/asantos2000/ml-ipt-hw/raw/master/others/install_lib.py\n",
    "\n",
    "Nota: É opinião desse autor que esse módulo seja utilizado apenas para fins didáticos. [Python.org recomenda](https://packaging.python.org/en/latest/tutorials/managing-dependencies/) utilizar ferramentas como pip, pipenv, entre outras para gerenciar a instalação de módulos.\n",
    "\n",
    "Esse módulo identifica as dependências necessárias a serem instaladas[^1], mas delega para a ferramenta pip a execução.\n",
    "\n",
    "[^1]: O módulo não foi testado com especificações mais novas do arquivo requirements e não verifica multiplos arquivos."
   ]
  },
  {
   "cell_type": "code",
   "execution_count": null,
   "metadata": {},
   "outputs": [],
   "source": [
    "# install_lib.py\n",
    "from install_lib import PackageInstaller\n",
    "\n",
    "pinst = PackageInstaller(\n",
    "        filename='requirements.txt', interactive_mode=True)"
   ]
  },
  {
   "cell_type": "code",
   "execution_count": null,
   "metadata": {},
   "outputs": [],
   "source": [
    "# Installing using requirements.txt\n",
    "pinst.install()"
   ]
  },
  {
   "cell_type": "code",
   "execution_count": null,
   "metadata": {},
   "outputs": [],
   "source": [
    "# Install from a list\n",
    "pinst.install(['pandas', 'plotly>=5.11.0'])"
   ]
  }
 ],
 "metadata": {
  "kernelspec": {
   "display_name": "Python 3.10.6 ('py3')",
   "language": "python",
   "name": "python3"
  },
  "language_info": {
   "name": "python",
   "version": "3.10.6"
  },
  "orig_nbformat": 4,
  "vscode": {
   "interpreter": {
    "hash": "1d1acba9729f04eb8eb4a3f9d01a2b7197b2bba80188d34db0be252369868690"
   }
  }
 },
 "nbformat": 4,
 "nbformat_minor": 2
}
